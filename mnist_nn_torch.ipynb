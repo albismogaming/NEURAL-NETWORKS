{
 "cells": [
  {
   "cell_type": "code",
   "execution_count": 2,
   "metadata": {},
   "outputs": [],
   "source": [
    "import numpy as np\n",
    "import matplotlib.pyplot as plt\n",
    "import torch\n",
    "import torch.nn as nn\n",
    "import torch.optim as optim\n",
    "import torch.nn.functional as F\n",
    "import torchvision\n",
    "import torchvision.transforms as transforms"
   ]
  },
  {
   "cell_type": "code",
   "execution_count": 4,
   "metadata": {},
   "outputs": [
    {
     "name": "stdout",
     "output_type": "stream",
     "text": [
      "Epoch 1, Loss: 0.9020\n",
      "Epoch 2, Loss: 0.6542\n",
      "Epoch 3, Loss: 0.6063\n",
      "Epoch 4, Loss: 0.5866\n",
      "Epoch 5, Loss: 0.5693\n",
      "Training Complete!\n",
      "Test Accuracy: 97.16%\n"
     ]
    }
   ],
   "source": [
    "# Define transformations (Convert images to tensors & Normalize)\n",
    "transform = transforms.Compose([\n",
    "    transforms.ToTensor(),\n",
    "    transforms.Normalize((0.5,), (0.5,))  # Normalize to [-1,1]\n",
    "])\n",
    "\n",
    "# Load train and test sets\n",
    "trainset = torchvision.datasets.MNIST(root='./data', train=True, download=True, transform=transform)\n",
    "testset = torchvision.datasets.MNIST(root='./data', train=False, download=True, transform=transform)\n",
    "\n",
    "# Create DataLoaders\n",
    "train_loader = torch.utils.data.DataLoader(trainset, batch_size=128, shuffle=True)\n",
    "test_loader = torch.utils.data.DataLoader(testset, batch_size=128, shuffle=False)\n",
    "\n",
    "class MNIST_Net(nn.Module):\n",
    "    def __init__(self):\n",
    "        super(MNIST_Net, self).__init__()\n",
    "        \n",
    "        # Input Layer\n",
    "        self.fc1 = nn.Linear(28 * 28, 256)  # First hidden layer (more neurons)\n",
    "        \n",
    "        # Hidden Layers (Added more layers)\n",
    "        self.fc2 = nn.Linear(256, 128)  \n",
    "        self.fc3 = nn.Linear(128, 64)  \n",
    "        self.fc4 = nn.Linear(64, 32)   # New hidden layer\n",
    "        self.fc5 = nn.Linear(32, 10)   # Output layer (still 10 for digits 0-9)\n",
    "\n",
    "        self.dropout = nn.Dropout(0.3)  # Add dropout to prevent overfitting\n",
    "        \n",
    "    def forward(self, x):\n",
    "        x = x.view(-1, 28 * 28)  # Flatten image\n",
    "        \n",
    "        # Forward pass with ReLU activations\n",
    "        x = F.relu(self.fc1(x))\n",
    "        x = F.relu(self.fc2(x))\n",
    "        x = F.relu(self.fc3(x))\n",
    "        x = F.relu(self.fc4(x))  # New layer activation\n",
    "        x = self.fc5(x)          # No activation on final layer (logits)\n",
    "        \n",
    "        return x\n",
    "\n",
    "# Initialize model, loss function, and optimizer\n",
    "model = MNIST_Net()\n",
    "criterion = nn.CrossEntropyLoss(label_smoothing=0.1)\n",
    "optimizer = optim.Adam(model.parameters(), lr=0.001)\n",
    "\n",
    "# Training loop\n",
    "num_epochs = 5\n",
    "for epoch in range(num_epochs):\n",
    "    running_loss = 0.0\n",
    "    for images, labels in train_loader:\n",
    "        # Forward pass\n",
    "        outputs = model(images)\n",
    "        loss = criterion(outputs, labels)\n",
    "\n",
    "        # Backward pass\n",
    "        optimizer.zero_grad()\n",
    "        loss.backward()\n",
    "        optimizer.step()\n",
    "\n",
    "        running_loss += loss.item()\n",
    "\n",
    "    print(f\"Epoch {epoch+1}, Loss: {running_loss / len(train_loader):.4f}\")\n",
    "\n",
    "print(\"Training Complete!\")\n",
    "\n",
    "correct = 0\n",
    "total = 0\n",
    "\n",
    "# No gradient tracking needed during evaluation\n",
    "with torch.no_grad():\n",
    "    for images, labels in test_loader:\n",
    "        outputs = model(images)\n",
    "        _, predicted = torch.max(outputs, 1)  # Get predicted class\n",
    "        total += labels.size(0)\n",
    "        correct += (predicted == labels).sum().item()\n",
    "\n",
    "accuracy = 100 * correct / total\n",
    "print(f\"Test Accuracy: {accuracy:.2f}%\")\n"
   ]
  },
  {
   "cell_type": "code",
   "execution_count": 38,
   "metadata": {},
   "outputs": [
    {
     "data": {
      "image/png": "[encoded data removed]",
      "text/plain": [
       "<Figure size 640x480 with 1 Axes>"
      ]
     },
     "metadata": {},
     "output_type": "display_data"
    }
   ],
   "source": [
    "# Get a single batch of test images\n",
    "dataiter = iter(test_loader)\n",
    "images, labels = next(dataiter)\n",
    "\n",
    "# Select a random image from the batch\n",
    "index = np.random.randint(0, len(images))  # Random index\n",
    "image = images[index]  # Select the image\n",
    "true_label = labels[index].item()  # True label\n",
    "\n",
    "# Set model to evaluation mode and make a prediction\n",
    "model.eval()\n",
    "with torch.no_grad():\n",
    "    output = model(image.unsqueeze(0))  # Add batch dimension\n",
    "    _, predicted_label = torch.max(output, 1)  # Get highest probability index\n",
    "\n",
    "predicted_label = predicted_label.item()  # Convert tensor to int\n",
    "\n",
    "# Plot the image with the predicted label\n",
    "plt.imshow(image.squeeze(), cmap=\"gray\")\n",
    "plt.title(f\"Predicted: {predicted_label} | Actual: {true_label}\")\n",
    "plt.axis(\"off\")\n",
    "plt.show()"
   ]
  }
 ],
 "metadata": {
  "kernelspec": {
   "display_name": "Python 3",
   "language": "python",
   "name": "python3"
  },
  "language_info": {
   "codemirror_mode": {
    "name": "ipython",
    "version": 3
   },
   "file_extension": ".py",
   "mimetype": "text/x-python",
   "name": "python",
   "nbconvert_exporter": "python",
   "pygments_lexer": "ipython3",
   "version": "3.13.2"
  }
 },
 "nbformat": 4,
 "nbformat_minor": 2
}
